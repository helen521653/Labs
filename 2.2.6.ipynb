{
 "cells": [
  {
   "cell_type": "code",
   "execution_count": 49,
   "id": "ee9b9dd2",
   "metadata": {},
   "outputs": [
    {
     "name": "stdout",
     "output_type": "stream",
     "text": [
      "Requirement already satisfied: pandas_ods_reader in c:\\users\\natalia\\anaconda3\\lib\\site-packages (0.1.4)Note: you may need to restart the kernel to use updated packages.\n",
      "Requirement already satisfied: pandas<2.0.0,>=1.0.0 in c:\\users\\natalia\\anaconda3\\lib\\site-packages (from pandas_ods_reader) (1.2.4)\n",
      "Requirement already satisfied: lxml<5.0.0,>=4.6.3 in c:\\users\\natalia\\anaconda3\\lib\\site-packages (from pandas_ods_reader) (4.6.3)\n",
      "Requirement already satisfied: ezodf<0.4.0,>=0.3.2 in c:\\users\\natalia\\anaconda3\\lib\\site-packages (from pandas_ods_reader) (0.3.2)\n",
      "Requirement already satisfied: pytz>=2017.3 in c:\\users\\natalia\\anaconda3\\lib\\site-packages (from pandas<2.0.0,>=1.0.0->pandas_ods_reader) (2021.1)\n",
      "Requirement already satisfied: numpy>=1.16.5 in c:\\users\\natalia\\anaconda3\\lib\\site-packages (from pandas<2.0.0,>=1.0.0->pandas_ods_reader) (1.20.1)\n",
      "Requirement already satisfied: python-dateutil>=2.7.3 in c:\\users\\natalia\\anaconda3\\lib\\site-packages (from pandas<2.0.0,>=1.0.0->pandas_ods_reader) (2.8.1)\n",
      "Requirement already satisfied: six>=1.5 in c:\\users\\natalia\\anaconda3\\lib\\site-packages (from python-dateutil>=2.7.3->pandas<2.0.0,>=1.0.0->pandas_ods_reader) (1.15.0)\n",
      "\n"
     ]
    }
   ],
   "source": [
    "pip install pandas_ods_reader"
   ]
  },
  {
   "cell_type": "code",
   "execution_count": 50,
   "id": "db42a0f0",
   "metadata": {},
   "outputs": [],
   "source": [
    "import math"
   ]
  },
  {
   "cell_type": "code",
   "execution_count": 51,
   "id": "c38573df",
   "metadata": {},
   "outputs": [],
   "source": [
    "from pandas_ods_reader import read_ods"
   ]
  },
  {
   "cell_type": "code",
   "execution_count": 52,
   "id": "289c793d",
   "metadata": {},
   "outputs": [],
   "source": [
    "base_path = \"C:/Users/Natalia/Documents/labs/2.2.6.ods\"\n",
    "sheet_index = 1\n",
    "df = read_ods(base_path , sheet_index)"
   ]
  },
  {
   "cell_type": "code",
   "execution_count": 53,
   "id": "794e2c92",
   "metadata": {},
   "outputs": [
    {
     "data": {
      "text/html": [
       "<div>\n",
       "<style scoped>\n",
       "    .dataframe tbody tr th:only-of-type {\n",
       "        vertical-align: middle;\n",
       "    }\n",
       "\n",
       "    .dataframe tbody tr th {\n",
       "        vertical-align: top;\n",
       "    }\n",
       "\n",
       "    .dataframe thead th {\n",
       "        text-align: right;\n",
       "    }\n",
       "</style>\n",
       "<table border=\"1\" class=\"dataframe\">\n",
       "  <thead>\n",
       "    <tr style=\"text-align: right;\">\n",
       "      <th></th>\n",
       "      <th>T,железо</th>\n",
       "      <th>R, железо,м</th>\n",
       "      <th>t,время падения(ж)</th>\n",
       "      <th>V_уст,м/с</th>\n",
       "      <th>sigma_Vуст</th>\n",
       "      <th>1/Т, ж</th>\n",
       "      <th>n, вязкость,Па*с</th>\n",
       "      <th>sigma_n(железо)</th>\n",
       "      <th>t*, время релаксации,с</th>\n",
       "      <th>sigma_t*(железо)</th>\n",
       "      <th>...</th>\n",
       "      <th>sigma_Vуст.1</th>\n",
       "      <th>1/Т, с</th>\n",
       "      <th>n, вязкость,Па*с.1</th>\n",
       "      <th>sigma_n</th>\n",
       "      <th>t*, время релаксации,с.1</th>\n",
       "      <th>sigma_t*</th>\n",
       "      <th>S, путь релаксации, м.1</th>\n",
       "      <th>sigma_S</th>\n",
       "      <th>Re</th>\n",
       "      <th>ln(n).1</th>\n",
       "    </tr>\n",
       "  </thead>\n",
       "  <tbody>\n",
       "    <tr>\n",
       "      <th>0</th>\n",
       "      <td>296.0</td>\n",
       "      <td>0.0004</td>\n",
       "      <td>90.02</td>\n",
       "      <td>0.002222</td>\n",
       "      <td>0.000006</td>\n",
       "      <td>0.003378</td>\n",
       "      <td>1.060076</td>\n",
       "      <td>0.132536</td>\n",
       "      <td>0.000264</td>\n",
       "      <td>0.000047</td>\n",
       "      <td>...</td>\n",
       "      <td>0.000010</td>\n",
       "      <td>0.003378</td>\n",
       "      <td>0.737700</td>\n",
       "      <td>0.036931</td>\n",
       "      <td>0.000783</td>\n",
       "      <td>0.000055</td>\n",
       "      <td>0.000003</td>\n",
       "      <td>2.255016e-07</td>\n",
       "      <td>0.013782</td>\n",
       "      <td>-0.304218</td>\n",
       "    </tr>\n",
       "    <tr>\n",
       "      <th>1</th>\n",
       "      <td>304.0</td>\n",
       "      <td>0.0004</td>\n",
       "      <td>50.19</td>\n",
       "      <td>0.003985</td>\n",
       "      <td>0.00001</td>\n",
       "      <td>0.003289</td>\n",
       "      <td>0.591037</td>\n",
       "      <td>0.073894</td>\n",
       "      <td>0.000474</td>\n",
       "      <td>0.000084</td>\n",
       "      <td>...</td>\n",
       "      <td>0.000011</td>\n",
       "      <td>0.003378</td>\n",
       "      <td>0.776105</td>\n",
       "      <td>0.037008</td>\n",
       "      <td>0.000821</td>\n",
       "      <td>0.000055</td>\n",
       "      <td>0.000003</td>\n",
       "      <td>2.358804e-07</td>\n",
       "      <td>0.014414</td>\n",
       "      <td>-0.253468</td>\n",
       "    </tr>\n",
       "    <tr>\n",
       "      <th>2</th>\n",
       "      <td>304.0</td>\n",
       "      <td>0.0004</td>\n",
       "      <td>38.4</td>\n",
       "      <td>0.005208</td>\n",
       "      <td>0.000013</td>\n",
       "      <td>0.003289</td>\n",
       "      <td>0.452198</td>\n",
       "      <td>0.056536</td>\n",
       "      <td>0.000619</td>\n",
       "      <td>0.000109</td>\n",
       "      <td>...</td>\n",
       "      <td>0.000010</td>\n",
       "      <td>0.003378</td>\n",
       "      <td>0.849697</td>\n",
       "      <td>0.040517</td>\n",
       "      <td>0.000750</td>\n",
       "      <td>0.000051</td>\n",
       "      <td>0.000003</td>\n",
       "      <td>1.967908e-07</td>\n",
       "      <td>0.012025</td>\n",
       "      <td>-0.162876</td>\n",
       "    </tr>\n",
       "    <tr>\n",
       "      <th>3</th>\n",
       "      <td>304.0</td>\n",
       "      <td>0.00045</td>\n",
       "      <td>29.12</td>\n",
       "      <td>0.006868</td>\n",
       "      <td>0.000017</td>\n",
       "      <td>0.003289</td>\n",
       "      <td>0.434004</td>\n",
       "      <td>0.048235</td>\n",
       "      <td>0.000816</td>\n",
       "      <td>0.000128</td>\n",
       "      <td>...</td>\n",
       "      <td>0.000014</td>\n",
       "      <td>0.003289</td>\n",
       "      <td>0.588074</td>\n",
       "      <td>0.028042</td>\n",
       "      <td>0.001083</td>\n",
       "      <td>0.000073</td>\n",
       "      <td>0.000006</td>\n",
       "      <td>4.108369e-07</td>\n",
       "      <td>0.025105</td>\n",
       "      <td>-0.530903</td>\n",
       "    </tr>\n",
       "    <tr>\n",
       "      <th>4</th>\n",
       "      <td>311.0</td>\n",
       "      <td>0.000475</td>\n",
       "      <td>16.03</td>\n",
       "      <td>0.012477</td>\n",
       "      <td>0.000031</td>\n",
       "      <td>0.003215</td>\n",
       "      <td>0.266194</td>\n",
       "      <td>0.028028</td>\n",
       "      <td>0.001483</td>\n",
       "      <td>0.000221</td>\n",
       "      <td>...</td>\n",
       "      <td>0.000015</td>\n",
       "      <td>0.003289</td>\n",
       "      <td>0.593876</td>\n",
       "      <td>0.027662</td>\n",
       "      <td>0.001124</td>\n",
       "      <td>0.000074</td>\n",
       "      <td>0.000007</td>\n",
       "      <td>4.323424e-07</td>\n",
       "      <td>0.026418</td>\n",
       "      <td>-0.521085</td>\n",
       "    </tr>\n",
       "    <tr>\n",
       "      <th>5</th>\n",
       "      <td>311.0</td>\n",
       "      <td>0.000375</td>\n",
       "      <td>22.18</td>\n",
       "      <td>0.009017</td>\n",
       "      <td>0.000023</td>\n",
       "      <td>0.003215</td>\n",
       "      <td>0.229563</td>\n",
       "      <td>0.030614</td>\n",
       "      <td>0.001072</td>\n",
       "      <td>0.000202</td>\n",
       "      <td>...</td>\n",
       "      <td>0.000029</td>\n",
       "      <td>0.003215</td>\n",
       "      <td>0.280972</td>\n",
       "      <td>0.013398</td>\n",
       "      <td>0.002267</td>\n",
       "      <td>0.000153</td>\n",
       "      <td>0.000027</td>\n",
       "      <td>1.799725e-06</td>\n",
       "      <td>0.109977</td>\n",
       "      <td>-1.269500</td>\n",
       "    </tr>\n",
       "    <tr>\n",
       "      <th>6</th>\n",
       "      <td>319.0</td>\n",
       "      <td>0.00035</td>\n",
       "      <td>15.73</td>\n",
       "      <td>0.012715</td>\n",
       "      <td>0.000032</td>\n",
       "      <td>0.003135</td>\n",
       "      <td>0.141822</td>\n",
       "      <td>0.020263</td>\n",
       "      <td>0.001511</td>\n",
       "      <td>0.000305</td>\n",
       "      <td>...</td>\n",
       "      <td>0.000027</td>\n",
       "      <td>0.003215</td>\n",
       "      <td>0.300982</td>\n",
       "      <td>0.014352</td>\n",
       "      <td>0.002116</td>\n",
       "      <td>0.000143</td>\n",
       "      <td>0.000023</td>\n",
       "      <td>1.568376e-06</td>\n",
       "      <td>0.09584</td>\n",
       "      <td>-1.200703</td>\n",
       "    </tr>\n",
       "    <tr>\n",
       "      <th>7</th>\n",
       "      <td>319.0</td>\n",
       "      <td>0.0004</td>\n",
       "      <td>13.67</td>\n",
       "      <td>0.014631</td>\n",
       "      <td>0.000037</td>\n",
       "      <td>0.003135</td>\n",
       "      <td>0.160978</td>\n",
       "      <td>0.020126</td>\n",
       "      <td>0.001739</td>\n",
       "      <td>0.000307</td>\n",
       "      <td>...</td>\n",
       "      <td>0.000028</td>\n",
       "      <td>0.003215</td>\n",
       "      <td>0.294368</td>\n",
       "      <td>0.014037</td>\n",
       "      <td>0.002164</td>\n",
       "      <td>0.000146</td>\n",
       "      <td>0.000024</td>\n",
       "      <td>1.639657e-06</td>\n",
       "      <td>0.100196</td>\n",
       "      <td>-1.222926</td>\n",
       "    </tr>\n",
       "    <tr>\n",
       "      <th>8</th>\n",
       "      <td>319.0</td>\n",
       "      <td>0.00045</td>\n",
       "      <td>12.88</td>\n",
       "      <td>0.015528</td>\n",
       "      <td>0.000039</td>\n",
       "      <td>0.003135</td>\n",
       "      <td>0.191964</td>\n",
       "      <td>0.021335</td>\n",
       "      <td>0.001846</td>\n",
       "      <td>0.000290</td>\n",
       "      <td>...</td>\n",
       "      <td>0.000045</td>\n",
       "      <td>0.003135</td>\n",
       "      <td>0.191892</td>\n",
       "      <td>0.008938</td>\n",
       "      <td>0.003480</td>\n",
       "      <td>0.000229</td>\n",
       "      <td>0.000063</td>\n",
       "      <td>4.141020e-06</td>\n",
       "      <td>0.253032</td>\n",
       "      <td>-1.650825</td>\n",
       "    </tr>\n",
       "    <tr>\n",
       "      <th>9</th>\n",
       "      <td>296.0</td>\n",
       "      <td>0.0004</td>\n",
       "      <td>89.44</td>\n",
       "      <td>0.002236</td>\n",
       "      <td>0.000006</td>\n",
       "      <td>0.003378</td>\n",
       "      <td>1.053245</td>\n",
       "      <td>0.131682</td>\n",
       "      <td>0.000266</td>\n",
       "      <td>0.000047</td>\n",
       "      <td>...</td>\n",
       "      <td>0.000047</td>\n",
       "      <td>0.003135</td>\n",
       "      <td>0.175132</td>\n",
       "      <td>0.008351</td>\n",
       "      <td>0.003637</td>\n",
       "      <td>0.000245</td>\n",
       "      <td>0.000069</td>\n",
       "      <td>4.632347e-06</td>\n",
       "      <td>0.283072</td>\n",
       "      <td>-1.742215</td>\n",
       "    </tr>\n",
       "    <tr>\n",
       "      <th>10</th>\n",
       "      <td>304.0</td>\n",
       "      <td>0.0004</td>\n",
       "      <td>34.34</td>\n",
       "      <td>0.005824</td>\n",
       "      <td>0.000015</td>\n",
       "      <td>0.003289</td>\n",
       "      <td>0.404388</td>\n",
       "      <td>0.050559</td>\n",
       "      <td>0.000692</td>\n",
       "      <td>0.000122</td>\n",
       "      <td>...</td>\n",
       "      <td>0.000066</td>\n",
       "      <td>0.003058</td>\n",
       "      <td>0.130355</td>\n",
       "      <td>0.006072</td>\n",
       "      <td>0.005122</td>\n",
       "      <td>0.000337</td>\n",
       "      <td>0.000136</td>\n",
       "      <td>8.973603e-06</td>\n",
       "      <td>0.548321</td>\n",
       "      <td>-2.037498</td>\n",
       "    </tr>\n",
       "    <tr>\n",
       "      <th>11</th>\n",
       "      <td>327.0</td>\n",
       "      <td>0.00045</td>\n",
       "      <td>8.58</td>\n",
       "      <td>0.02331</td>\n",
       "      <td>0.000058</td>\n",
       "      <td>0.003058</td>\n",
       "      <td>0.127876</td>\n",
       "      <td>0.014212</td>\n",
       "      <td>0.002771</td>\n",
       "      <td>0.000435</td>\n",
       "      <td>...</td>\n",
       "      <td>0.000067</td>\n",
       "      <td>0.003058</td>\n",
       "      <td>0.122874</td>\n",
       "      <td>0.005859</td>\n",
       "      <td>0.005184</td>\n",
       "      <td>0.000349</td>\n",
       "      <td>0.000140</td>\n",
       "      <td>9.410557e-06</td>\n",
       "      <td>0.575058</td>\n",
       "      <td>-2.096599</td>\n",
       "    </tr>\n",
       "    <tr>\n",
       "      <th>12</th>\n",
       "      <td>327.0</td>\n",
       "      <td>0.00035</td>\n",
       "      <td>11.6</td>\n",
       "      <td>0.017241</td>\n",
       "      <td>0.000043</td>\n",
       "      <td>0.003058</td>\n",
       "      <td>0.104586</td>\n",
       "      <td>0.014943</td>\n",
       "      <td>0.002049</td>\n",
       "      <td>0.000414</td>\n",
       "      <td>...</td>\n",
       "      <td>NaN</td>\n",
       "      <td>NaN</td>\n",
       "      <td>NaN</td>\n",
       "      <td>NaN</td>\n",
       "      <td>NaN</td>\n",
       "      <td>NaN</td>\n",
       "      <td>NaN</td>\n",
       "      <td>NaN</td>\n",
       "      <td>=</td>\n",
       "      <td>NaN</td>\n",
       "    </tr>\n",
       "    <tr>\n",
       "      <th>13</th>\n",
       "      <td>None</td>\n",
       "      <td>None</td>\n",
       "      <td>None</td>\n",
       "      <td>None</td>\n",
       "      <td>None</td>\n",
       "      <td>None</td>\n",
       "      <td>NaN</td>\n",
       "      <td>NaN</td>\n",
       "      <td>NaN</td>\n",
       "      <td>NaN</td>\n",
       "      <td>...</td>\n",
       "      <td>NaN</td>\n",
       "      <td>NaN</td>\n",
       "      <td>NaN</td>\n",
       "      <td>NaN</td>\n",
       "      <td>NaN</td>\n",
       "      <td>NaN</td>\n",
       "      <td>NaN</td>\n",
       "      <td>NaN</td>\n",
       "      <td>None</td>\n",
       "      <td>NaN</td>\n",
       "    </tr>\n",
       "    <tr>\n",
       "      <th>14</th>\n",
       "      <td>р,железа,кг/м^3</td>\n",
       "      <td>р,стекла,кг/м^3</td>\n",
       "      <td>р,глицерина,кг/м^3</td>\n",
       "      <td>sigma_R,м</td>\n",
       "      <td>L,m</td>\n",
       "      <td>sigma_L,m</td>\n",
       "      <td>NaN</td>\n",
       "      <td>NaN</td>\n",
       "      <td>NaN</td>\n",
       "      <td>NaN</td>\n",
       "      <td>...</td>\n",
       "      <td>NaN</td>\n",
       "      <td>NaN</td>\n",
       "      <td>NaN</td>\n",
       "      <td>NaN</td>\n",
       "      <td>NaN</td>\n",
       "      <td>NaN</td>\n",
       "      <td>NaN</td>\n",
       "      <td>NaN</td>\n",
       "      <td>None</td>\n",
       "      <td>NaN</td>\n",
       "    </tr>\n",
       "    <tr>\n",
       "      <th>15</th>\n",
       "      <td>7874.0</td>\n",
       "      <td>2600.0</td>\n",
       "      <td>1250.0</td>\n",
       "      <td>0.000025</td>\n",
       "      <td>0.2</td>\n",
       "      <td>0.0005</td>\n",
       "      <td>NaN</td>\n",
       "      <td>NaN</td>\n",
       "      <td>NaN</td>\n",
       "      <td>NaN</td>\n",
       "      <td>...</td>\n",
       "      <td>NaN</td>\n",
       "      <td>NaN</td>\n",
       "      <td>NaN</td>\n",
       "      <td>NaN</td>\n",
       "      <td>NaN</td>\n",
       "      <td>NaN</td>\n",
       "      <td>NaN</td>\n",
       "      <td>NaN</td>\n",
       "      <td>None</td>\n",
       "      <td>NaN</td>\n",
       "    </tr>\n",
       "  </tbody>\n",
       "</table>\n",
       "<p>16 rows × 28 columns</p>\n",
       "</div>"
      ],
      "text/plain": [
       "           T,железо      R, железо,м  t,время падения(ж)  V_уст,м/с  \\\n",
       "0             296.0           0.0004               90.02   0.002222   \n",
       "1             304.0           0.0004               50.19   0.003985   \n",
       "2             304.0           0.0004                38.4   0.005208   \n",
       "3             304.0          0.00045               29.12   0.006868   \n",
       "4             311.0         0.000475               16.03   0.012477   \n",
       "5             311.0         0.000375               22.18   0.009017   \n",
       "6             319.0          0.00035               15.73   0.012715   \n",
       "7             319.0           0.0004               13.67   0.014631   \n",
       "8             319.0          0.00045               12.88   0.015528   \n",
       "9             296.0           0.0004               89.44   0.002236   \n",
       "10            304.0           0.0004               34.34   0.005824   \n",
       "11            327.0          0.00045                8.58    0.02331   \n",
       "12            327.0          0.00035                11.6   0.017241   \n",
       "13             None             None                None       None   \n",
       "14  р,железа,кг/м^3  р,стекла,кг/м^3  р,глицерина,кг/м^3  sigma_R,м   \n",
       "15           7874.0           2600.0              1250.0   0.000025   \n",
       "\n",
       "   sigma_Vуст     1/Т, ж  n, вязкость,Па*с  sigma_n(железо)  \\\n",
       "0    0.000006   0.003378          1.060076         0.132536   \n",
       "1     0.00001   0.003289          0.591037         0.073894   \n",
       "2    0.000013   0.003289          0.452198         0.056536   \n",
       "3    0.000017   0.003289          0.434004         0.048235   \n",
       "4    0.000031   0.003215          0.266194         0.028028   \n",
       "5    0.000023   0.003215          0.229563         0.030614   \n",
       "6    0.000032   0.003135          0.141822         0.020263   \n",
       "7    0.000037   0.003135          0.160978         0.020126   \n",
       "8    0.000039   0.003135          0.191964         0.021335   \n",
       "9    0.000006   0.003378          1.053245         0.131682   \n",
       "10   0.000015   0.003289          0.404388         0.050559   \n",
       "11   0.000058   0.003058          0.127876         0.014212   \n",
       "12   0.000043   0.003058          0.104586         0.014943   \n",
       "13       None       None               NaN              NaN   \n",
       "14        L,m  sigma_L,m               NaN              NaN   \n",
       "15        0.2     0.0005               NaN              NaN   \n",
       "\n",
       "    t*, время релаксации,с  sigma_t*(железо)  ...  sigma_Vуст.1    1/Т, с  \\\n",
       "0                 0.000264          0.000047  ...      0.000010  0.003378   \n",
       "1                 0.000474          0.000084  ...      0.000011  0.003378   \n",
       "2                 0.000619          0.000109  ...      0.000010  0.003378   \n",
       "3                 0.000816          0.000128  ...      0.000014  0.003289   \n",
       "4                 0.001483          0.000221  ...      0.000015  0.003289   \n",
       "5                 0.001072          0.000202  ...      0.000029  0.003215   \n",
       "6                 0.001511          0.000305  ...      0.000027  0.003215   \n",
       "7                 0.001739          0.000307  ...      0.000028  0.003215   \n",
       "8                 0.001846          0.000290  ...      0.000045  0.003135   \n",
       "9                 0.000266          0.000047  ...      0.000047  0.003135   \n",
       "10                0.000692          0.000122  ...      0.000066  0.003058   \n",
       "11                0.002771          0.000435  ...      0.000067  0.003058   \n",
       "12                0.002049          0.000414  ...           NaN       NaN   \n",
       "13                     NaN               NaN  ...           NaN       NaN   \n",
       "14                     NaN               NaN  ...           NaN       NaN   \n",
       "15                     NaN               NaN  ...           NaN       NaN   \n",
       "\n",
       "    n, вязкость,Па*с.1   sigma_n  t*, время релаксации,с.1  sigma_t*  \\\n",
       "0             0.737700  0.036931                  0.000783  0.000055   \n",
       "1             0.776105  0.037008                  0.000821  0.000055   \n",
       "2             0.849697  0.040517                  0.000750  0.000051   \n",
       "3             0.588074  0.028042                  0.001083  0.000073   \n",
       "4             0.593876  0.027662                  0.001124  0.000074   \n",
       "5             0.280972  0.013398                  0.002267  0.000153   \n",
       "6             0.300982  0.014352                  0.002116  0.000143   \n",
       "7             0.294368  0.014037                  0.002164  0.000146   \n",
       "8             0.191892  0.008938                  0.003480  0.000229   \n",
       "9             0.175132  0.008351                  0.003637  0.000245   \n",
       "10            0.130355  0.006072                  0.005122  0.000337   \n",
       "11            0.122874  0.005859                  0.005184  0.000349   \n",
       "12                 NaN       NaN                       NaN       NaN   \n",
       "13                 NaN       NaN                       NaN       NaN   \n",
       "14                 NaN       NaN                       NaN       NaN   \n",
       "15                 NaN       NaN                       NaN       NaN   \n",
       "\n",
       "    S, путь релаксации, м.1       sigma_S        Re   ln(n).1  \n",
       "0                  0.000003  2.255016e-07  0.013782 -0.304218  \n",
       "1                  0.000003  2.358804e-07  0.014414 -0.253468  \n",
       "2                  0.000003  1.967908e-07  0.012025 -0.162876  \n",
       "3                  0.000006  4.108369e-07  0.025105 -0.530903  \n",
       "4                  0.000007  4.323424e-07  0.026418 -0.521085  \n",
       "5                  0.000027  1.799725e-06  0.109977 -1.269500  \n",
       "6                  0.000023  1.568376e-06   0.09584 -1.200703  \n",
       "7                  0.000024  1.639657e-06  0.100196 -1.222926  \n",
       "8                  0.000063  4.141020e-06  0.253032 -1.650825  \n",
       "9                  0.000069  4.632347e-06  0.283072 -1.742215  \n",
       "10                 0.000136  8.973603e-06  0.548321 -2.037498  \n",
       "11                 0.000140  9.410557e-06  0.575058 -2.096599  \n",
       "12                      NaN           NaN         =       NaN  \n",
       "13                      NaN           NaN      None       NaN  \n",
       "14                      NaN           NaN      None       NaN  \n",
       "15                      NaN           NaN      None       NaN  \n",
       "\n",
       "[16 rows x 28 columns]"
      ]
     },
     "execution_count": 53,
     "metadata": {},
     "output_type": "execute_result"
    }
   ],
   "source": [
    "df"
   ]
  },
  {
   "cell_type": "code",
   "execution_count": 54,
   "id": "48cceb10",
   "metadata": {},
   "outputs": [],
   "source": [
    "import numpy as np\n",
    "import matplotlib.pyplot as plt"
   ]
  },
  {
   "cell_type": "code",
   "execution_count": 55,
   "id": "eb12cefb",
   "metadata": {},
   "outputs": [],
   "source": [
    "d_array = df.to_numpy()"
   ]
  },
  {
   "cell_type": "code",
   "execution_count": 56,
   "id": "6e114102",
   "metadata": {},
   "outputs": [],
   "source": [
    "d_array_Ti = d_array[0:13, 5]\n",
    "d_array_Tg = d_array[0:12, 19]\n",
    "d_array_lni = d_array[0:13, 13]\n",
    "d_array_lng = d_array[0:12, 27]"
   ]
  },
  {
   "cell_type": "code",
   "execution_count": 57,
   "id": "854713ce",
   "metadata": {},
   "outputs": [],
   "source": [
    "d_array_Ti_64 = d_array_Ti.astype(float) \n",
    "d_array_Tg_64 = d_array_Tg.astype(float)\n",
    "d_array_lni_64 = d_array_lni.astype(float) \n",
    "d_array_lng_64 = d_array_lng.astype(float)"
   ]
  },
  {
   "cell_type": "code",
   "execution_count": 58,
   "id": "491fb52a",
   "metadata": {},
   "outputs": [
    {
     "data": {
      "text/plain": [
       "array([0.00337838, 0.00328947, 0.00328947, 0.00328947, 0.00321543,\n",
       "       0.00321543, 0.0031348 , 0.0031348 , 0.0031348 , 0.00337838,\n",
       "       0.00328947, 0.0030581 , 0.0030581 ])"
      ]
     },
     "execution_count": 58,
     "metadata": {},
     "output_type": "execute_result"
    }
   ],
   "source": [
    "np.around(d_array_Ti_64, decimals = 10)"
   ]
  },
  {
   "cell_type": "code",
   "execution_count": 59,
   "id": "a2f5fbb9",
   "metadata": {},
   "outputs": [
    {
     "data": {
      "text/plain": [
       "array([0.00337838, 0.00328947, 0.00328947, 0.00328947, 0.00321543,\n",
       "       0.00321543, 0.0031348 , 0.0031348 , 0.0031348 , 0.00337838,\n",
       "       0.00328947, 0.0030581 , 0.0030581 ])"
      ]
     },
     "execution_count": 59,
     "metadata": {},
     "output_type": "execute_result"
    }
   ],
   "source": [
    "np.around(d_array_Ti_64, decimals = 10)"
   ]
  },
  {
   "cell_type": "code",
   "execution_count": 60,
   "id": "457ae802",
   "metadata": {},
   "outputs": [
    {
     "data": {
      "text/plain": [
       "array([ 0.05834015, -0.52587591, -0.79363426, -0.83470042, -1.32352924,\n",
       "       -1.47157778, -1.95318479, -1.82648807, -1.65044992,  0.05187629,\n",
       "       -0.90538086, -2.05669173, -2.2577494 ])"
      ]
     },
     "execution_count": 60,
     "metadata": {},
     "output_type": "execute_result"
    }
   ],
   "source": [
    "np.around(d_array_lni_64, decimals = 10)"
   ]
  },
  {
   "cell_type": "code",
   "execution_count": 61,
   "id": "34165515",
   "metadata": {},
   "outputs": [
    {
     "data": {
      "text/plain": [
       "array([-0.30421804, -0.25346762, -0.16287576, -0.53090334, -0.52108526,\n",
       "       -1.26949981, -1.20070316, -1.22292629, -1.65082501, -1.74221459,\n",
       "       -2.03749762, -2.09659889])"
      ]
     },
     "execution_count": 61,
     "metadata": {},
     "output_type": "execute_result"
    }
   ],
   "source": [
    "np.around(d_array_lng_64, decimals = 10)"
   ]
  },
  {
   "cell_type": "code",
   "execution_count": 62,
   "id": "07c30621",
   "metadata": {},
   "outputs": [],
   "source": [
    "from scipy import optimize\n",
    "def test_func(x, a, b):\n",
    "    return a*x + b\n",
    "p0=[1,1]\n",
    "params_i, params_covariance_i = optimize.curve_fit(test_func, d_array_Ti_64, d_array_lni_64,\n",
    "                                               p0)\n",
    "params_g, params_covariance_g = optimize.curve_fit(test_func, d_array_Tg_64, d_array_lng_64,\n",
    "                                               p0)\n",
    "#params_1_r_1, params_covariance_1_r_1 = optimize.curve_fit(test_func, d_array_1_T_r, d_array_ln_p_r,\n",
    "                                               #p0)\n",
    "#params_1_f_1, params_covariance_1_f_1 = optimize.curve_fit(test_func, d_array_1_T_f, d_array_ln_p_f,\n",
    "                                               #p0)"
   ]
  },
  {
   "cell_type": "code",
   "execution_count": 63,
   "id": "cbbca752",
   "metadata": {},
   "outputs": [
    {
     "data": {
      "image/png": "[encoded data removed]",
      "text/plain": [
       "<Figure size 576x432 with 1 Axes>"
      ]
     },
     "metadata": {
      "needs_background": "light"
     },
     "output_type": "display_data"
    }
   ],
   "source": [
    "fig, ax = plt.subplots(figsize=(8, 6))\n",
    "ax.set_title(\"ln(n) от 1/T\", fontsize=12)\n",
    "ax.set_xlabel(\"1/T\", fontsize=14)\n",
    "ax.set_ylabel(\"ln(n)\", fontsize=14)\n",
    "ax.grid(which=\"major\", linewidth=1.2)\n",
    "#ax.set_ylim(0.01, 0.3)\n",
    "ax.grid(which=\"minor\", linestyle=\"--\", color=\"gray\", linewidth=0.5)\n",
    "ax.scatter(d_array_Ti_64,d_array_lni_64, c=\"red\",label = \"железо\" )\n",
    "ax.scatter(d_array_Tg_64,d_array_lng_64, c=\"blue\",label = \"стекло\" )\n",
    "\n",
    "ax.plot(d_array_Ti_64, test_func(d_array_Ti_64, params_i[0], params_i[1]),c=\"red\")\n",
    "ax.plot(d_array_Tg_64, test_func(d_array_Tg_64, params_g[0], params_g[1]),c=\"blue\")\n",
    "#ax.errorbar(d_array_T, d_array_Sig, xerr=0, yerr=0.03, c=\"green\")\n",
    "#plt.fill_between(d_array_T, -0.00012166*d_array_T+0.03, -0.00012166*d_array_T+0.03, alpha=0.3)\n",
    "ax.legend()\n",
    "#ax.tick_params(which='major', length=10, width=2)\n",
    "#ax.tick_params(which='minor', length=5, width=1)\n",
    "plt.show()"
   ]
  },
  {
   "cell_type": "code",
   "execution_count": 64,
   "id": "05d2cd25",
   "metadata": {},
   "outputs": [],
   "source": [
    "covariance_errors = [params_covariance_i[0][0],params_covariance_g[0][0]]\n",
    "covariance_errors = np.array(covariance_errors)"
   ]
  },
  {
   "cell_type": "code",
   "execution_count": 65,
   "id": "bfa2b0c5",
   "metadata": {},
   "outputs": [
    {
     "data": {
      "text/plain": [
       "array([207268.24435456,  82137.39355801])"
      ]
     },
     "execution_count": 65,
     "metadata": {},
     "output_type": "execute_result"
    }
   ],
   "source": [
    "covariance_errors"
   ]
  },
  {
   "cell_type": "code",
   "execution_count": 66,
   "id": "8c399067",
   "metadata": {},
   "outputs": [
    {
     "data": {
      "text/plain": [
       "6861.640807122791"
      ]
     },
     "execution_count": 66,
     "metadata": {},
     "output_type": "execute_result"
    }
   ],
   "source": [
    "params_i[0]"
   ]
  },
  {
   "cell_type": "code",
   "execution_count": 67,
   "id": "7a46c998",
   "metadata": {},
   "outputs": [
    {
     "data": {
      "text/plain": [
       "5981.558788945551"
      ]
     },
     "execution_count": 67,
     "metadata": {},
     "output_type": "execute_result"
    }
   ],
   "source": [
    "params_g[0]"
   ]
  },
  {
   "cell_type": "code",
   "execution_count": 68,
   "id": "50a89c2a",
   "metadata": {},
   "outputs": [
    {
     "name": "stdout",
     "output_type": "stream",
     "text": [
      "455.26722301804455\n"
     ]
    }
   ],
   "source": [
    "error_Wi = math.sqrt(covariance_errors[0])\n",
    "print(error_Wi)"
   ]
  },
  {
   "cell_type": "code",
   "execution_count": 69,
   "id": "3435022f",
   "metadata": {},
   "outputs": [
    {
     "name": "stdout",
     "output_type": "stream",
     "text": [
      "286.59622041821615\n"
     ]
    }
   ],
   "source": [
    "error_Wg = math.sqrt(covariance_errors[1])\n",
    "print(error_Wg)"
   ]
  },
  {
   "cell_type": "code",
   "execution_count": 70,
   "id": "9f3a97a8",
   "metadata": {},
   "outputs": [],
   "source": [
    "k = 0.0138 #постоянная больцмана в зДж (зепто-Джоуль)"
   ]
  },
  {
   "cell_type": "code",
   "execution_count": 71,
   "id": "a8d99111",
   "metadata": {},
   "outputs": [],
   "source": [
    "Wi = params_i[0]*k\n",
    "Wg = params_g[0]*k\n",
    "error_Wi = error_Wi*k\n",
    "error_Wg = error_Wg*k"
   ]
  },
  {
   "cell_type": "code",
   "execution_count": 72,
   "id": "f9856049",
   "metadata": {},
   "outputs": [
    {
     "name": "stdout",
     "output_type": "stream",
     "text": [
      "94.6906431382945\n"
     ]
    }
   ],
   "source": [
    "print(Wi)"
   ]
  },
  {
   "cell_type": "code",
   "execution_count": 73,
   "id": "e27e41fe",
   "metadata": {},
   "outputs": [
    {
     "name": "stdout",
     "output_type": "stream",
     "text": [
      "82.5455112874486\n"
     ]
    }
   ],
   "source": [
    "print(Wg)"
   ]
  },
  {
   "cell_type": "code",
   "execution_count": 74,
   "id": "e9338e08",
   "metadata": {},
   "outputs": [
    {
     "name": "stdout",
     "output_type": "stream",
     "text": [
      "6.282687677649014\n"
     ]
    }
   ],
   "source": [
    "print(error_Wi)"
   ]
  },
  {
   "cell_type": "code",
   "execution_count": 75,
   "id": "f99d195f",
   "metadata": {},
   "outputs": [
    {
     "name": "stdout",
     "output_type": "stream",
     "text": [
      "3.9550278417713827\n"
     ]
    }
   ],
   "source": [
    "print(error_Wg)"
   ]
  },
  {
   "cell_type": "code",
   "execution_count": 76,
   "id": "9595bb21",
   "metadata": {},
   "outputs": [],
   "source": [
    "#энергия активация глицерина в опыте с железными шариками в зДж\n",
    "Wi = 94.7 +- 6.3\n",
    "\n",
    "#энергия аквации глицерина в опыте со стеклянными шариками в зДж\n",
    "Wg = 82.5 +- 4"
   ]
  }
 ],
 "metadata": {
  "kernelspec": {
   "display_name": "Python 3",
   "language": "python",
   "name": "python3"
  },
  "language_info": {
   "codemirror_mode": {
    "name": "ipython",
    "version": 3
   },
   "file_extension": ".py",
   "mimetype": "text/x-python",
   "name": "python",
   "nbconvert_exporter": "python",
   "pygments_lexer": "ipython3",
   "version": "3.8.8"
  }
 },
 "nbformat": 4,
 "nbformat_minor": 5
}
