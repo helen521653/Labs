{
 "cells": [
  {
   "cell_type": "code",
   "execution_count": 1,
   "id": "b83eccf4",
   "metadata": {},
   "outputs": [
    {
     "name": "stdout",
     "output_type": "stream",
     "text": [
      "Requirement already satisfied: pandas_ods_reader in c:\\programdata\\anaconda3\\lib\\site-packages (0.1.4)\n",
      "Requirement already satisfied: ezodf<0.4.0,>=0.3.2 in c:\\programdata\\anaconda3\\lib\\site-packages (from pandas_ods_reader) (0.3.2)\n",
      "Requirement already satisfied: pandas<2.0.0,>=1.0.0 in c:\\programdata\\anaconda3\\lib\\site-packages (from pandas_ods_reader) (1.2.4)\n",
      "Requirement already satisfied: lxml<5.0.0,>=4.6.3 in c:\\programdata\\anaconda3\\lib\\site-packages (from pandas_ods_reader) (4.6.3)\n",
      "Requirement already satisfied: numpy>=1.16.5 in c:\\programdata\\anaconda3\\lib\\site-packages (from pandas<2.0.0,>=1.0.0->pandas_ods_reader) (1.20.1)\n",
      "Requirement already satisfied: python-dateutil>=2.7.3 in c:\\programdata\\anaconda3\\lib\\site-packages (from pandas<2.0.0,>=1.0.0->pandas_ods_reader) (2.8.1)\n",
      "Requirement already satisfied: pytz>=2017.3 in c:\\programdata\\anaconda3\\lib\\site-packages (from pandas<2.0.0,>=1.0.0->pandas_ods_reader) (2021.1)\n",
      "Requirement already satisfied: six>=1.5 in c:\\programdata\\anaconda3\\lib\\site-packages (from python-dateutil>=2.7.3->pandas<2.0.0,>=1.0.0->pandas_ods_reader) (1.15.0)\n",
      "Note: you may need to restart the kernel to use updated packages.\n"
     ]
    }
   ],
   "source": [
    "pip install pandas_ods_reader"
   ]
  },
  {
   "cell_type": "code",
   "execution_count": 2,
   "id": "bc48bcb8",
   "metadata": {},
   "outputs": [],
   "source": [
    "from pandas_ods_reader import read_ods"
   ]
  },
  {
   "cell_type": "code",
   "execution_count": 3,
   "id": "970acb2b",
   "metadata": {},
   "outputs": [],
   "source": [
    "base_path = \"C:/Users/Елена/Documents/Labs/2_4_1.ods\"\n",
    "sheet_index = 1\n",
    "df = read_ods(base_path , sheet_index)"
   ]
  },
  {
   "cell_type": "code",
   "execution_count": 4,
   "id": "0fae3b2f",
   "metadata": {},
   "outputs": [
    {
     "data": {
      "text/html": [
       "<div>\n",
       "<style scoped>\n",
       "    .dataframe tbody tr th:only-of-type {\n",
       "        vertical-align: middle;\n",
       "    }\n",
       "\n",
       "    .dataframe tbody tr th {\n",
       "        vertical-align: top;\n",
       "    }\n",
       "\n",
       "    .dataframe thead th {\n",
       "        text-align: right;\n",
       "    }\n",
       "</style>\n",
       "<table border=\"1\" class=\"dataframe\">\n",
       "  <thead>\n",
       "    <tr style=\"text-align: right;\">\n",
       "      <th></th>\n",
       "      <th>T grad</th>\n",
       "      <th>h1,mm</th>\n",
       "      <th>h2,mm</th>\n",
       "      <th>delta_h,mm</th>\n",
       "    </tr>\n",
       "  </thead>\n",
       "  <tbody>\n",
       "    <tr>\n",
       "      <th>0</th>\n",
       "      <td>23.0</td>\n",
       "      <td>77.0</td>\n",
       "      <td>61.00</td>\n",
       "      <td>16.00</td>\n",
       "    </tr>\n",
       "    <tr>\n",
       "      <th>1</th>\n",
       "      <td>24.0</td>\n",
       "      <td>77.5</td>\n",
       "      <td>60.40</td>\n",
       "      <td>17.10</td>\n",
       "    </tr>\n",
       "    <tr>\n",
       "      <th>2</th>\n",
       "      <td>25.0</td>\n",
       "      <td>78.1</td>\n",
       "      <td>59.80</td>\n",
       "      <td>18.30</td>\n",
       "    </tr>\n",
       "    <tr>\n",
       "      <th>3</th>\n",
       "      <td>26.0</td>\n",
       "      <td>78.7</td>\n",
       "      <td>59.00</td>\n",
       "      <td>19.70</td>\n",
       "    </tr>\n",
       "    <tr>\n",
       "      <th>4</th>\n",
       "      <td>27.0</td>\n",
       "      <td>79.8</td>\n",
       "      <td>58.55</td>\n",
       "      <td>21.25</td>\n",
       "    </tr>\n",
       "    <tr>\n",
       "      <th>5</th>\n",
       "      <td>28.0</td>\n",
       "      <td>80.6</td>\n",
       "      <td>58.00</td>\n",
       "      <td>22.60</td>\n",
       "    </tr>\n",
       "    <tr>\n",
       "      <th>6</th>\n",
       "      <td>29.0</td>\n",
       "      <td>81.4</td>\n",
       "      <td>57.20</td>\n",
       "      <td>24.20</td>\n",
       "    </tr>\n",
       "    <tr>\n",
       "      <th>7</th>\n",
       "      <td>30.0</td>\n",
       "      <td>82.3</td>\n",
       "      <td>56.20</td>\n",
       "      <td>26.10</td>\n",
       "    </tr>\n",
       "    <tr>\n",
       "      <th>8</th>\n",
       "      <td>31.0</td>\n",
       "      <td>83.2</td>\n",
       "      <td>55.80</td>\n",
       "      <td>27.40</td>\n",
       "    </tr>\n",
       "    <tr>\n",
       "      <th>9</th>\n",
       "      <td>32.0</td>\n",
       "      <td>84.4</td>\n",
       "      <td>54.90</td>\n",
       "      <td>29.50</td>\n",
       "    </tr>\n",
       "    <tr>\n",
       "      <th>10</th>\n",
       "      <td>33.0</td>\n",
       "      <td>85.3</td>\n",
       "      <td>53.90</td>\n",
       "      <td>31.40</td>\n",
       "    </tr>\n",
       "    <tr>\n",
       "      <th>11</th>\n",
       "      <td>34.0</td>\n",
       "      <td>86.4</td>\n",
       "      <td>52.90</td>\n",
       "      <td>33.50</td>\n",
       "    </tr>\n",
       "    <tr>\n",
       "      <th>12</th>\n",
       "      <td>35.0</td>\n",
       "      <td>87.5</td>\n",
       "      <td>51.80</td>\n",
       "      <td>35.70</td>\n",
       "    </tr>\n",
       "    <tr>\n",
       "      <th>13</th>\n",
       "      <td>34.0</td>\n",
       "      <td>87.3</td>\n",
       "      <td>52.00</td>\n",
       "      <td>35.30</td>\n",
       "    </tr>\n",
       "    <tr>\n",
       "      <th>14</th>\n",
       "      <td>33.0</td>\n",
       "      <td>86.4</td>\n",
       "      <td>52.30</td>\n",
       "      <td>34.10</td>\n",
       "    </tr>\n",
       "    <tr>\n",
       "      <th>15</th>\n",
       "      <td>32.0</td>\n",
       "      <td>85.3</td>\n",
       "      <td>53.80</td>\n",
       "      <td>31.50</td>\n",
       "    </tr>\n",
       "    <tr>\n",
       "      <th>16</th>\n",
       "      <td>31.0</td>\n",
       "      <td>84.6</td>\n",
       "      <td>54.70</td>\n",
       "      <td>29.90</td>\n",
       "    </tr>\n",
       "    <tr>\n",
       "      <th>17</th>\n",
       "      <td>30.0</td>\n",
       "      <td>83.9</td>\n",
       "      <td>55.60</td>\n",
       "      <td>28.30</td>\n",
       "    </tr>\n",
       "    <tr>\n",
       "      <th>18</th>\n",
       "      <td>29.0</td>\n",
       "      <td>82.7</td>\n",
       "      <td>56.30</td>\n",
       "      <td>26.40</td>\n",
       "    </tr>\n",
       "    <tr>\n",
       "      <th>19</th>\n",
       "      <td>28.0</td>\n",
       "      <td>81.7</td>\n",
       "      <td>57.00</td>\n",
       "      <td>24.70</td>\n",
       "    </tr>\n",
       "    <tr>\n",
       "      <th>20</th>\n",
       "      <td>27.0</td>\n",
       "      <td>81.0</td>\n",
       "      <td>57.90</td>\n",
       "      <td>23.10</td>\n",
       "    </tr>\n",
       "    <tr>\n",
       "      <th>21</th>\n",
       "      <td>26.0</td>\n",
       "      <td>80.3</td>\n",
       "      <td>58.30</td>\n",
       "      <td>22.00</td>\n",
       "    </tr>\n",
       "    <tr>\n",
       "      <th>22</th>\n",
       "      <td>25.0</td>\n",
       "      <td>79.6</td>\n",
       "      <td>59.60</td>\n",
       "      <td>20.00</td>\n",
       "    </tr>\n",
       "    <tr>\n",
       "      <th>23</th>\n",
       "      <td>24.0</td>\n",
       "      <td>78.8</td>\n",
       "      <td>60.50</td>\n",
       "      <td>18.30</td>\n",
       "    </tr>\n",
       "    <tr>\n",
       "      <th>24</th>\n",
       "      <td>23.0</td>\n",
       "      <td>77.1</td>\n",
       "      <td>61.10</td>\n",
       "      <td>16.00</td>\n",
       "    </tr>\n",
       "    <tr>\n",
       "      <th>25</th>\n",
       "      <td>None</td>\n",
       "      <td>NaN</td>\n",
       "      <td>NaN</td>\n",
       "      <td>NaN</td>\n",
       "    </tr>\n",
       "    <tr>\n",
       "      <th>26</th>\n",
       "      <td>None</td>\n",
       "      <td>NaN</td>\n",
       "      <td>NaN</td>\n",
       "      <td>NaN</td>\n",
       "    </tr>\n",
       "    <tr>\n",
       "      <th>27</th>\n",
       "      <td>sigma_h, mm</td>\n",
       "      <td>NaN</td>\n",
       "      <td>NaN</td>\n",
       "      <td>NaN</td>\n",
       "    </tr>\n",
       "    <tr>\n",
       "      <th>28</th>\n",
       "      <td>0.05</td>\n",
       "      <td>NaN</td>\n",
       "      <td>NaN</td>\n",
       "      <td>NaN</td>\n",
       "    </tr>\n",
       "  </tbody>\n",
       "</table>\n",
       "</div>"
      ],
      "text/plain": [
       "         T grad  h1,mm  h2,mm  delta_h,mm\n",
       "0          23.0   77.0  61.00       16.00\n",
       "1          24.0   77.5  60.40       17.10\n",
       "2          25.0   78.1  59.80       18.30\n",
       "3          26.0   78.7  59.00       19.70\n",
       "4          27.0   79.8  58.55       21.25\n",
       "5          28.0   80.6  58.00       22.60\n",
       "6          29.0   81.4  57.20       24.20\n",
       "7          30.0   82.3  56.20       26.10\n",
       "8          31.0   83.2  55.80       27.40\n",
       "9          32.0   84.4  54.90       29.50\n",
       "10         33.0   85.3  53.90       31.40\n",
       "11         34.0   86.4  52.90       33.50\n",
       "12         35.0   87.5  51.80       35.70\n",
       "13         34.0   87.3  52.00       35.30\n",
       "14         33.0   86.4  52.30       34.10\n",
       "15         32.0   85.3  53.80       31.50\n",
       "16         31.0   84.6  54.70       29.90\n",
       "17         30.0   83.9  55.60       28.30\n",
       "18         29.0   82.7  56.30       26.40\n",
       "19         28.0   81.7  57.00       24.70\n",
       "20         27.0   81.0  57.90       23.10\n",
       "21         26.0   80.3  58.30       22.00\n",
       "22         25.0   79.6  59.60       20.00\n",
       "23         24.0   78.8  60.50       18.30\n",
       "24         23.0   77.1  61.10       16.00\n",
       "25         None    NaN    NaN         NaN\n",
       "26         None    NaN    NaN         NaN\n",
       "27  sigma_h, mm    NaN    NaN         NaN\n",
       "28         0.05    NaN    NaN         NaN"
      ]
     },
     "execution_count": 4,
     "metadata": {},
     "output_type": "execute_result"
    }
   ],
   "source": [
    "df"
   ]
  },
  {
   "cell_type": "code",
   "execution_count": 5,
   "id": "7b3c071b",
   "metadata": {},
   "outputs": [],
   "source": [
    "import numpy as np\n",
    "import matplotlib.pyplot as plt"
   ]
  },
  {
   "cell_type": "code",
   "execution_count": 6,
   "id": "85f1a625",
   "metadata": {},
   "outputs": [],
   "source": [
    "d_array = df.to_numpy()"
   ]
  },
  {
   "cell_type": "code",
   "execution_count": 7,
   "id": "90041e52",
   "metadata": {},
   "outputs": [],
   "source": [
    "d_array_T_r = d_array[1:13, 0]\n",
    "d_array_T_f = d_array[13:25, 0]\n",
    "d_array_h_r = d_array[1:13, 3]\n",
    "d_array_h_f = d_array[13:25, 3]\n"
   ]
  },
  {
   "cell_type": "code",
   "execution_count": 8,
   "id": "bad54aa8",
   "metadata": {},
   "outputs": [
    {
     "data": {
      "text/plain": [
       "array([35.3, 34.1, 31.5, 29.9, 28.3, 26.4, 24.7, 23.1, 22.0, 20.0, 18.3,\n",
       "       16.0], dtype=object)"
      ]
     },
     "execution_count": 8,
     "metadata": {},
     "output_type": "execute_result"
    }
   ],
   "source": [
    "d_array_h_f"
   ]
  },
  {
   "cell_type": "code",
   "execution_count": 9,
   "id": "3de3174c",
   "metadata": {},
   "outputs": [
    {
     "data": {
      "text/plain": [
       "array([34.0, 33.0, 32.0, 31.0, 30.0, 29.0, 28.0, 27.0, 26.0, 25.0, 24.0,\n",
       "       23.0], dtype=object)"
      ]
     },
     "execution_count": 9,
     "metadata": {},
     "output_type": "execute_result"
    }
   ],
   "source": [
    "d_array_T_f"
   ]
  },
  {
   "cell_type": "code",
   "execution_count": 10,
   "id": "77258d82",
   "metadata": {},
   "outputs": [],
   "source": [
    "d_array_T_r = d_array_T_r+273\n",
    "d_array_T_f = d_array_T_f +273"
   ]
  },
  {
   "cell_type": "code",
   "execution_count": 11,
   "id": "5af20e50",
   "metadata": {},
   "outputs": [
    {
     "data": {
      "text/plain": [
       "array([307.0, 306.0, 305.0, 304.0, 303.0, 302.0, 301.0, 300.0, 299.0,\n",
       "       298.0, 297.0, 296.0], dtype=object)"
      ]
     },
     "execution_count": 11,
     "metadata": {},
     "output_type": "execute_result"
    }
   ],
   "source": [
    "d_array_T_f"
   ]
  },
  {
   "cell_type": "code",
   "execution_count": 12,
   "id": "8a191a2f",
   "metadata": {},
   "outputs": [],
   "source": [
    "d_array_h_r_m = d_array_h_r*0.01 #переводим в метры \n",
    "d_array_h_f_m = d_array_h_f*0.01\n",
    "d_array_1_T_r = d_array_T_r **(-1)#1/T\n",
    "d_array_1_T_f = d_array_T_f**(-1)"
   ]
  },
  {
   "cell_type": "code",
   "execution_count": 13,
   "id": "af61064a",
   "metadata": {},
   "outputs": [
    {
     "data": {
      "text/plain": [
       "array([0.003367003367003367, 0.003355704697986577, 0.0033444816053511705,\n",
       "       0.0033333333333333335, 0.0033222591362126247,\n",
       "       0.0033112582781456954, 0.0033003300330033004, 0.003289473684210526,\n",
       "       0.003278688524590164, 0.0032679738562091504, 0.003257328990228013,\n",
       "       0.003246753246753247], dtype=object)"
      ]
     },
     "execution_count": 13,
     "metadata": {},
     "output_type": "execute_result"
    }
   ],
   "source": [
    "d_array_1_T_r\n"
   ]
  },
  {
   "cell_type": "code",
   "execution_count": 14,
   "id": "5409c15f",
   "metadata": {},
   "outputs": [],
   "source": [
    "q_mercury = 13596\n",
    "g = 9.8"
   ]
  },
  {
   "cell_type": "code",
   "execution_count": 15,
   "id": "c78f2e7a",
   "metadata": {},
   "outputs": [],
   "source": [
    "d_array_p_r = d_array_h_r_m *q_mercury*g#перевели в Па давление \n",
    "d_array_p_f = d_array_h_f_m*q_mercury*g\n",
    "d_array_p_r_64 = d_array_p_r.astype(float) \n",
    "d_array_p_f_64 = d_array_p_f.astype(float)"
   ]
  },
  {
   "cell_type": "code",
   "execution_count": 16,
   "id": "48c6bb06",
   "metadata": {},
   "outputs": [
    {
     "data": {
      "text/plain": [
       "array([47034.0024, 45435.1128, 41970.852 , 39838.9992, 37707.1464,\n",
       "       35175.5712, 32910.4776, 30778.6248, 29312.976 , 26648.16  ,\n",
       "       24383.0664, 21318.528 ])"
      ]
     },
     "execution_count": 16,
     "metadata": {},
     "output_type": "execute_result"
    }
   ],
   "source": [
    "np.around(d_array_p_r_64, decimals = 4)\n",
    "np.around(d_array_p_f_64, decimals = 4)\n"
   ]
  },
  {
   "cell_type": "code",
   "execution_count": 17,
   "id": "8e5fd8a2",
   "metadata": {},
   "outputs": [
    {
     "data": {
      "text/plain": [
       "12"
      ]
     },
     "execution_count": 17,
     "metadata": {},
     "output_type": "execute_result"
    }
   ],
   "source": [
    "len(d_array_T_f)"
   ]
  },
  {
   "cell_type": "code",
   "execution_count": 18,
   "id": "633e39d9",
   "metadata": {},
   "outputs": [],
   "source": [
    "d_array_ln_p_r = np.log(d_array_p_r_64)# получили точки ln(p)\n",
    "d_array_ln_p_f = np.log(d_array_p_f_64)"
   ]
  },
  {
   "cell_type": "code",
   "execution_count": 19,
   "id": "138aef5e",
   "metadata": {},
   "outputs": [
    {
     "data": {
      "text/plain": [
       "12"
      ]
     },
     "execution_count": 19,
     "metadata": {},
     "output_type": "execute_result"
    }
   ],
   "source": [
    "len(d_array_T_f)"
   ]
  },
  {
   "cell_type": "code",
   "execution_count": 20,
   "id": "cc544886",
   "metadata": {},
   "outputs": [],
   "source": [
    "from scipy import optimize\n",
    "def test_func(x, a, b):\n",
    "    return a*x + b\n",
    "p0=[1,1]\n",
    "params_r_1, params_covariance_r_1 = optimize.curve_fit(test_func, d_array_T_r, d_array_p_r_64,\n",
    "                                               p0)\n",
    "params_f_1, params_covariance_f_1 = optimize.curve_fit(test_func, d_array_T_f, d_array_p_f_64,\n",
    "                                               p0)\n",
    "params_1_r_1, params_covariance_1_r_1 = optimize.curve_fit(test_func, d_array_1_T_r, d_array_ln_p_r,\n",
    "                                               p0)\n",
    "params_1_f_1, params_covariance_1_f_1 = optimize.curve_fit(test_func, d_array_1_T_f, d_array_ln_p_f,\n",
    "                                               p0)\n"
   ]
  },
  {
   "cell_type": "code",
   "execution_count": null,
   "id": "6882c3a9",
   "metadata": {},
   "outputs": [],
   "source": []
  },
  {
   "cell_type": "code",
   "execution_count": null,
   "id": "b9b04565",
   "metadata": {},
   "outputs": [],
   "source": []
  },
  {
   "cell_type": "code",
   "execution_count": 21,
   "id": "1e6a14bd",
   "metadata": {},
   "outputs": [
    {
     "data": {
      "image/png": "[encoded data removed]",
      "text/plain": [
       "<Figure size 576x432 with 1 Axes>"
      ]
     },
     "metadata": {
      "needs_background": "light"
     },
     "output_type": "display_data"
    }
   ],
   "source": [
    "fig, ax = plt.subplots(figsize=(8, 6))\n",
    "ax.set_title(\"P(T)\", fontsize=12)\n",
    "ax.set_xlabel(\"T\", fontsize=14)\n",
    "ax.set_ylabel(\"P\", fontsize=14)\n",
    "ax.grid(which=\"major\", linewidth=1.2)\n",
    "#ax.set_ylim(0.01, 0.3)\n",
    "ax.grid(which=\"minor\", linestyle=\"--\", color=\"gray\", linewidth=0.5)\n",
    "ax.scatter(d_array_T_r,d_array_p_r_64, c=\"red\",label = \"нагрев\" )\n",
    "ax.scatter(d_array_T_f,d_array_p_f_64, c=\"blue\",label = \"охлаждение\" )\n",
    "\n",
    "ax.plot(d_array_T_r, test_func(d_array_T_r, params_r_1[0], params_r_1[1]),c=\"red\")\n",
    "ax.plot(d_array_T_f, test_func(d_array_T_f, params_f_1[0], params_f_1[1]),c=\"blue\")\n",
    "#ax.errorbar(d_array_T, d_array_Sig, xerr=0, yerr=0.03, c=\"green\")\n",
    "#plt.fill_between(d_array_T, -0.00012166*d_array_T+0.03, -0.00012166*d_array_T+0.03, alpha=0.3)\n",
    "ax.legend()\n",
    "#ax.tick_params(which='major', length=10, width=2)\n",
    "#ax.tick_params(which='minor', length=5, width=1)\n",
    "plt.show()"
   ]
  },
  {
   "cell_type": "code",
   "execution_count": 22,
   "id": "43c5ef48",
   "metadata": {},
   "outputs": [
    {
     "data": {
      "image/png": "[encoded data removed]",
      "text/plain": [
       "<Figure size 576x432 with 1 Axes>"
      ]
     },
     "metadata": {
      "needs_background": "light"
     },
     "output_type": "display_data"
    }
   ],
   "source": [
    "fig, ax = plt.subplots(figsize=(8, 6))\n",
    "ax.set_title(\"ln(P)((1 / T))\", fontsize=12)\n",
    "ax.set_xlabel(\" 1 / T\", fontsize=14)\n",
    "ax.set_ylabel(\"ln(P)\", fontsize=14)\n",
    "ax.grid(which=\"major\", linewidth=1.2)\n",
    "#ax.set_ylim(0.01, 0.3)\n",
    "ax.grid(which=\"minor\", linestyle=\"--\", color=\"gray\", linewidth=0.5)\n",
    "ax.scatter(d_array_1_T_r,d_array_ln_p_r, c=\"red\",label = \"нагрев\" )\n",
    "ax.scatter(d_array_1_T_f,d_array_ln_p_f, c=\"blue\",label = \"охлаждение\" )\n",
    "\n",
    "ax.plot(d_array_1_T_r, test_func(d_array_1_T_r, params_1_r_1[0], params_1_r_1[1]),c=\"red\")\n",
    "ax.plot(d_array_1_T_f, test_func(d_array_1_T_f, params_1_f_1[0], params_1_f_1[1]),c=\"blue\")\n",
    "#ax.errorbar(d_array_T, d_array_Sig, xerr=0, yerr=0.03, c=\"green\")\n",
    "#plt.fill_between(d_array_T, -0.00012166*d_array_T+0.03, -0.00012166*d_array_T+0.03, alpha=0.3)\n",
    "ax.legend()\n",
    "#ax.tick_params(which='major', length=10, width=2)\n",
    "#ax.tick_params(which='minor', length=5, width=1)\n",
    "plt.show()"
   ]
  },
  {
   "cell_type": "code",
   "execution_count": 23,
   "id": "ad00ba33",
   "metadata": {},
   "outputs": [],
   "source": [
    "covariance_errors = [params_covariance_r_1[0][0],params_covariance_f_1[0][0],params_covariance_1_r_1[0][0],params_covariance_1_f_1[0][0]]\n",
    "covariance_errors = np.array(covariance_errors)"
   ]
  },
  {
   "cell_type": "code",
   "execution_count": 24,
   "id": "bf1296c4",
   "metadata": {},
   "outputs": [
    {
     "data": {
      "text/plain": [
       "array([ 3414.78650363,  1334.80400795,  1718.7076869 , 49356.54877068])"
      ]
     },
     "execution_count": 24,
     "metadata": {},
     "output_type": "execute_result"
    }
   ],
   "source": [
    "covariance_errors"
   ]
  },
  {
   "cell_type": "code",
   "execution_count": 25,
   "id": "e5f9dc52",
   "metadata": {},
   "outputs": [],
   "source": [
    "d_p_d_T = [params_r_1[0],params_f_1[0]]\n",
    "d_p_d_T  = np.array(d_p_d_T )\n",
    "d_ln_p_d_1_T = [params_1_r_1[0],params_1_f_1[0]]\n",
    "d_ln_p_d_1_T  = np.array(d_ln_p_d_1_T )\n"
   ]
  },
  {
   "cell_type": "code",
   "execution_count": 26,
   "id": "0265b7b5",
   "metadata": {},
   "outputs": [],
   "source": [
    "#Константы \n",
    "R = 8.31\n",
    "sigma_p = 0.05*0.001*q_mercury*g"
   ]
  },
  {
   "cell_type": "code",
   "execution_count": 51,
   "id": "b134857c",
   "metadata": {},
   "outputs": [],
   "source": [
    "#Посчитаем L - теплоту испарения\n",
    "#____по формуле L = - R(d_ln(p)/d_(1/T))\n",
    "\n",
    "L_2_r = (-1)*R*(d_ln_p_d_1_T[0]) #нагрева\n",
    "L_2_f = (-1)*R*(d_ln_p_d_1_T[1]) #охлаждения\n",
    "\n",
    "\n",
    "L_2 = (L_2_r + L_2_f)/2   #Посчитаем среднее L_2)))\n",
    "\n",
    "#Посчитаем L - теплоту испарения\n",
    "#____по формуле L = (R*T^2/P)(d_p/d_T)\n",
    "\n",
    "L_1_r = (R*np.power(d_array_T_r,2)/d_array_p_r_64)*d_p_d_T[0] \n",
    "L_1_f = (R*np.power(d_array_T_f,2)/d_array_p_f_64)*d_p_d_T[1]\n",
    "\n",
    "#технические шоколадки\n",
    "import pandas as pd\n",
    "L_1_f = pd.to_numeric(L_1_f,errors = 'coerce')\n",
    "\n",
    "\n",
    "L_1 = (sum(L_1_r)+sum(L_1_f))/(len(L_1_f)+len(L_1_r)) #Посчитаем среднее L)))\n",
    "\n",
    "\n"
   ]
  },
  {
   "cell_type": "code",
   "execution_count": 52,
   "id": "125218a6",
   "metadata": {},
   "outputs": [
    {
     "data": {
      "text/plain": [
       "52739.976607173296"
      ]
     },
     "execution_count": 52,
     "metadata": {},
     "output_type": "execute_result"
    }
   ],
   "source": [
    "L_1"
   ]
  },
  {
   "cell_type": "code",
   "execution_count": 54,
   "id": "4a96f323",
   "metadata": {},
   "outputs": [
    {
     "data": {
      "text/plain": [
       "51411.232809995614"
      ]
     },
     "execution_count": 54,
     "metadata": {},
     "output_type": "execute_result"
    }
   ],
   "source": [
    "L_2"
   ]
  },
  {
   "cell_type": "code",
   "execution_count": 39,
   "id": "9d5c39ad",
   "metadata": {},
   "outputs": [],
   "source": [
    "#То, что я не люблю больше всего - погрешности(((\n",
    "#_______для L1 по формуле delta_L = sqrt( ((R*T^2*(d_p/d_T)/P^2)*d_p )^2 + ((R*T^2/P) *d(d_p/d_T))^2 )\n",
    "\n",
    "\n",
    "# Для нагрева \n",
    "delta_L_1 = np.sqrt(pd.to_numeric(np.power((R*np.power(d_array_T_r,2)*(d_p_d_T[0])/np.power(d_array_p_r_64,2))*sigma_p,2),errors = 'coerce') + pd.to_numeric(np.power((R*np.power(d_array_T_r,2)/d_array_p_r_64)*(covariance_errors[0])**0.5,2),errors = 'coerce'))\n",
    "# Для охлаждения  \n",
    "delta_L_2 = np.sqrt(pd.to_numeric(np.power((R*np.power(d_array_T_f,2)*(d_p_d_T[1])/np.power(d_array_p_f_64,2))*sigma_p,2),errors = 'coerce') + pd.to_numeric(np.power((R*np.power(d_array_T_f,2)/d_array_p_f_64)*np.sqrt(covariance_errors[1]),2),errors = 'coerce'))\n",
    "\n",
    "#Погрешность тоже возьмём как среднее по двум массивам, всё честно, гарантирую\n",
    "D_L_1 = (sum(delta_L_1)+sum(delta_L_2))/(len(delta_L_1)+len(delta_L_2))\n",
    "\n"
   ]
  },
  {
   "cell_type": "code",
   "execution_count": 41,
   "id": "a0317e95",
   "metadata": {},
   "outputs": [],
   "source": [
    "#_______для L2 по формуле погрешностью будет корень диагонального элемента кавариационной матрицы - погрешность экстраполяции\n",
    "D_L_2 = (np.sqrt(covariance_errors[2]) + np.sqrt(covariance_errors[3]))/2"
   ]
  },
  {
   "cell_type": "code",
   "execution_count": 55,
   "id": "233babc6",
   "metadata": {},
   "outputs": [
    {
     "data": {
      "text/plain": [
       "1107.0252323059206"
      ]
     },
     "execution_count": 55,
     "metadata": {},
     "output_type": "execute_result"
    }
   ],
   "source": [
    "D_L_1"
   ]
  },
  {
   "cell_type": "code",
   "execution_count": 42,
   "id": "4fb524dc",
   "metadata": {},
   "outputs": [
    {
     "data": {
      "text/plain": [
       "131.8103188023741"
      ]
     },
     "execution_count": 42,
     "metadata": {},
     "output_type": "execute_result"
    }
   ],
   "source": [
    "D_L_2\n"
   ]
  },
  {
   "cell_type": "code",
   "execution_count": null,
   "id": "17fdc826",
   "metadata": {},
   "outputs": [],
   "source": [
    "\n",
    "#Сравнение полученных результатов с табличными данными\n",
    "#Этого лучше не делать, но посмеяться и поплакать хочется \n",
    "# Итак, табличные значения в студию:\n",
    "# L = 40.2кДж\n",
    "#Мы имеем:\n",
    "\n",
    "L_1 = 52739.976607173296 +-1107.0252323059206\n",
    "L_2 = 51411.232809995614 +-131.8103188023741\n",
    "\n",
    "#По погрешности мы можем заметить, что второй метод вычисления гораздо точнее, но что нам от точности,\n",
    "# если он всё равно на 20% больше табличной величины\n",
    "#виноват термостат, отвечаю\n",
    "\n",
    "\n",
    "\n",
    "\n",
    "\n",
    "\n",
    "\n",
    "\n",
    "\n",
    "\n"
   ]
  },
  {
   "cell_type": "code",
   "execution_count": null,
   "id": "8921aac7",
   "metadata": {},
   "outputs": [],
   "source": []
  },
  {
   "cell_type": "code",
   "execution_count": null,
   "id": "6862d35b",
   "metadata": {},
   "outputs": [],
   "source": []
  },
  {
   "cell_type": "code",
   "execution_count": null,
   "id": "4f1017a0",
   "metadata": {},
   "outputs": [],
   "source": []
  }
 ],
 "metadata": {
  "kernelspec": {
   "display_name": "Python 3",
   "language": "python",
   "name": "python3"
  },
  "language_info": {
   "codemirror_mode": {
    "name": "ipython",
    "version": 3
   },
   "file_extension": ".py",
   "mimetype": "text/x-python",
   "name": "python",
   "nbconvert_exporter": "python",
   "pygments_lexer": "ipython3",
   "version": "3.8.8"
  }
 },
 "nbformat": 4,
 "nbformat_minor": 5
}
